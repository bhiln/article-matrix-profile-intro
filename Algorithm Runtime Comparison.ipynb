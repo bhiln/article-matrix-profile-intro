{
 "cells": [
  {
   "cell_type": "markdown",
   "metadata": {},
   "source": [
    "# Algorithm Runtime Comparison\n",
    "\n",
    "This notebook is used to generate the runtime comparison plot and table for the article."
   ]
  },
  {
   "cell_type": "code",
   "execution_count": 1,
   "metadata": {},
   "outputs": [],
   "source": [
    "import numpy as np\n",
    "import pandas as pd\n",
    "from matplotlib import pyplot as plt\n",
    "\n",
    "%matplotlib inline"
   ]
  },
  {
   "cell_type": "code",
   "execution_count": 2,
   "metadata": {},
   "outputs": [],
   "source": [
    "import timeit"
   ]
  },
  {
   "cell_type": "code",
   "execution_count": 3,
   "metadata": {},
   "outputs": [],
   "source": [
    "# store the results here for plotting\n",
    "results = {\n",
    "    'Algorithm': [],\n",
    "    'N': [],\n",
    "    'Time (seconds)': [],\n",
    "}\n",
    "\n",
    "# here we define the algorithms of interest\n",
    "algorithms = [\n",
    "    'naiveMP',\n",
    "    'stamp',\n",
    "    'stomp',\n",
    "    'scrimp_plus_plus',\n",
    "]\n",
    "\n",
    "# this is the window size that is kept at 4\n",
    "m = 2**2\n",
    "\n",
    "# compute timing results of all algorithms\n",
    "# this is due to the fact that the naive algorithm performs HORRIBLY!\n",
    "for algorithm in algorithms:\n",
    "    for i in range(2, 14 + 1):\n",
    "        n = 2**i\n",
    "        setup = [\n",
    "            'import numpy as np',\n",
    "            'from matrixprofile import matrixProfile',\n",
    "            'ts = np.random.uniform(size={})'.format(n),\n",
    "            'm = {}'.format(m),\n",
    "        ]\n",
    "        setup_code = ';'.join(setup)\n",
    "        \n",
    "        runtime_code = 'matrixProfile.{}(ts, m)'.format(algorithm)\n",
    "        \n",
    "        # stamp's default does not compute the entire matrix profile so we make it happen\n",
    "        if 'stamp' in algorithm:\n",
    "            runtime_code = 'matrixProfile.{}(ts, m, sampling=1)'.format(algorithm)\n",
    "\n",
    "        # shortcut to reduce long running naiveMP algorithm\n",
    "        if 'naiveMP' == algorithm and i > 10:\n",
    "            result = np.nan\n",
    "        else:\n",
    "            try:\n",
    "                result = timeit.timeit(stmt=runtime_code, setup=setup_code, number=1)\n",
    "            except ValueError:\n",
    "                result = np.nan\n",
    "        \n",
    "        results['Algorithm'].append(algorithm)\n",
    "        results['N'].append(n)\n",
    "        results['Time (seconds)'].append(result)"
   ]
  },
  {
   "cell_type": "code",
   "execution_count": 4,
   "metadata": {},
   "outputs": [],
   "source": [
    "df = pd.DataFrame(results)"
   ]
  },
  {
   "cell_type": "code",
   "execution_count": 5,
   "metadata": {},
   "outputs": [
    {
     "data": {
      "text/html": [
       "<div>\n",
       "<style scoped>\n",
       "    .dataframe tbody tr th:only-of-type {\n",
       "        vertical-align: middle;\n",
       "    }\n",
       "\n",
       "    .dataframe tbody tr th {\n",
       "        vertical-align: top;\n",
       "    }\n",
       "\n",
       "    .dataframe thead th {\n",
       "        text-align: right;\n",
       "    }\n",
       "</style>\n",
       "<table border=\"1\" class=\"dataframe\">\n",
       "  <thead>\n",
       "    <tr style=\"text-align: right;\">\n",
       "      <th>Algorithm</th>\n",
       "      <th>naiveMP</th>\n",
       "      <th>scrimp_plus_plus</th>\n",
       "      <th>stamp</th>\n",
       "      <th>stomp</th>\n",
       "    </tr>\n",
       "    <tr>\n",
       "      <th>N</th>\n",
       "      <th></th>\n",
       "      <th></th>\n",
       "      <th></th>\n",
       "      <th></th>\n",
       "    </tr>\n",
       "  </thead>\n",
       "  <tbody>\n",
       "    <tr>\n",
       "      <td>4</td>\n",
       "      <td>0.000248</td>\n",
       "      <td>NaN</td>\n",
       "      <td>0.019825</td>\n",
       "      <td>0.000430</td>\n",
       "    </tr>\n",
       "    <tr>\n",
       "      <td>8</td>\n",
       "      <td>0.001876</td>\n",
       "      <td>0.001665</td>\n",
       "      <td>0.001144</td>\n",
       "      <td>0.000809</td>\n",
       "    </tr>\n",
       "    <tr>\n",
       "      <td>16</td>\n",
       "      <td>0.014853</td>\n",
       "      <td>0.002983</td>\n",
       "      <td>0.002544</td>\n",
       "      <td>0.001576</td>\n",
       "    </tr>\n",
       "    <tr>\n",
       "      <td>32</td>\n",
       "      <td>0.065195</td>\n",
       "      <td>0.006451</td>\n",
       "      <td>0.005492</td>\n",
       "      <td>0.003250</td>\n",
       "    </tr>\n",
       "    <tr>\n",
       "      <td>64</td>\n",
       "      <td>0.260024</td>\n",
       "      <td>0.013720</td>\n",
       "      <td>0.010452</td>\n",
       "      <td>0.006089</td>\n",
       "    </tr>\n",
       "    <tr>\n",
       "      <td>128</td>\n",
       "      <td>1.080838</td>\n",
       "      <td>0.029260</td>\n",
       "      <td>0.024097</td>\n",
       "      <td>0.012694</td>\n",
       "    </tr>\n",
       "    <tr>\n",
       "      <td>256</td>\n",
       "      <td>4.671515</td>\n",
       "      <td>0.062151</td>\n",
       "      <td>0.052230</td>\n",
       "      <td>0.029099</td>\n",
       "    </tr>\n",
       "    <tr>\n",
       "      <td>512</td>\n",
       "      <td>18.586879</td>\n",
       "      <td>0.130727</td>\n",
       "      <td>0.105740</td>\n",
       "      <td>0.058693</td>\n",
       "    </tr>\n",
       "    <tr>\n",
       "      <td>1024</td>\n",
       "      <td>73.129341</td>\n",
       "      <td>0.278646</td>\n",
       "      <td>0.233594</td>\n",
       "      <td>0.123510</td>\n",
       "    </tr>\n",
       "    <tr>\n",
       "      <td>2048</td>\n",
       "      <td>NaN</td>\n",
       "      <td>0.683043</td>\n",
       "      <td>0.557073</td>\n",
       "      <td>0.268865</td>\n",
       "    </tr>\n",
       "    <tr>\n",
       "      <td>4096</td>\n",
       "      <td>NaN</td>\n",
       "      <td>1.781843</td>\n",
       "      <td>1.415470</td>\n",
       "      <td>0.664516</td>\n",
       "    </tr>\n",
       "    <tr>\n",
       "      <td>8192</td>\n",
       "      <td>NaN</td>\n",
       "      <td>5.639395</td>\n",
       "      <td>4.529689</td>\n",
       "      <td>1.828349</td>\n",
       "    </tr>\n",
       "    <tr>\n",
       "      <td>16384</td>\n",
       "      <td>NaN</td>\n",
       "      <td>16.802292</td>\n",
       "      <td>12.628678</td>\n",
       "      <td>5.892654</td>\n",
       "    </tr>\n",
       "  </tbody>\n",
       "</table>\n",
       "</div>"
      ],
      "text/plain": [
       "Algorithm    naiveMP  scrimp_plus_plus      stamp     stomp\n",
       "N                                                          \n",
       "4           0.000248               NaN   0.019825  0.000430\n",
       "8           0.001876          0.001665   0.001144  0.000809\n",
       "16          0.014853          0.002983   0.002544  0.001576\n",
       "32          0.065195          0.006451   0.005492  0.003250\n",
       "64          0.260024          0.013720   0.010452  0.006089\n",
       "128         1.080838          0.029260   0.024097  0.012694\n",
       "256         4.671515          0.062151   0.052230  0.029099\n",
       "512        18.586879          0.130727   0.105740  0.058693\n",
       "1024       73.129341          0.278646   0.233594  0.123510\n",
       "2048             NaN          0.683043   0.557073  0.268865\n",
       "4096             NaN          1.781843   1.415470  0.664516\n",
       "8192             NaN          5.639395   4.529689  1.828349\n",
       "16384            NaN         16.802292  12.628678  5.892654"
      ]
     },
     "execution_count": 5,
     "metadata": {},
     "output_type": "execute_result"
    }
   ],
   "source": [
    "df.pivot(index='N', columns='Algorithm', values='Time (seconds)')"
   ]
  },
  {
   "cell_type": "code",
   "execution_count": 7,
   "metadata": {},
   "outputs": [
    {
     "data": {
      "image/png": "[encoded data removed]",
      "text/plain": [
       "<Figure size 720x504 with 1 Axes>"
      ]
     },
     "metadata": {
      "needs_background": "light"
     },
     "output_type": "display_data"
    }
   ],
   "source": [
    "df.pivot(index='N', columns='Algorithm', values='Time (seconds)').plot(title='Runtime Varying N\\n M = 2^2', figsize=(10,7))\n",
    "plt.ylabel('Seconds')\n",
    "plt.show()"
   ]
  }
 ],
 "metadata": {
  "kernelspec": {
   "display_name": "Python 3",
   "language": "python",
   "name": "python3"
  },
  "language_info": {
   "codemirror_mode": {
    "name": "ipython",
    "version": 3
   },
   "file_extension": ".py",
   "mimetype": "text/x-python",
   "name": "python",
   "nbconvert_exporter": "python",
   "pygments_lexer": "ipython3",
   "version": "3.7.4"
  }
 },
 "nbformat": 4,
 "nbformat_minor": 4
}
