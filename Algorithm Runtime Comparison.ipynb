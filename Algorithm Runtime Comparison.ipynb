{
 "cells": [
  {
   "cell_type": "markdown",
   "metadata": {},
   "source": [
    "# Algorithm Runtime Comparison\n",
    "\n",
    "This notebook is used to generate the runtime comparison plot and table for the article."
   ]
  },
  {
   "cell_type": "code",
   "execution_count": 1,
   "metadata": {},
   "outputs": [],
   "source": [
    "import numpy as np\n",
    "import pandas as pd\n",
    "from matplotlib import pyplot as plt\n",
    "\n",
    "%matplotlib inline"
   ]
  },
  {
   "cell_type": "code",
   "execution_count": 2,
   "metadata": {},
   "outputs": [],
   "source": [
    "import timeit"
   ]
  },
  {
   "cell_type": "code",
   "execution_count": 3,
   "metadata": {},
   "outputs": [],
   "source": [
    "# store the results here for plotting\n",
    "results = {\n",
    "    'Algorithm': [],\n",
    "    'N': [],\n",
    "    'Time (seconds)': [],\n",
    "}\n",
    "\n",
    "# here we define the algorithms of interest\n",
    "algorithms = [\n",
    "    'naiveMP',\n",
    "    'stamp',\n",
    "    'stomp',\n",
    "    'scrimp_plus_plus',\n",
    "]\n",
    "\n",
    "# this is the window size that is kept at 32\n",
    "m = 2**5\n",
    "\n",
    "# compute timing results of all algorithms\n",
    "# this is due to the fact that the naive algorithm performs HORRIBLY!\n",
    "for algorithm in algorithms:\n",
    "    for i in range(2, 14 + 1):\n",
    "        n = 2**i\n",
    "        setup = [\n",
    "            'import numpy as np',\n",
    "            'from matrixprofile import matrixProfile',\n",
    "            'np.random.seed(9999)',\n",
    "            'ts = np.random.uniform(size={})'.format(n),\n",
    "            'm = {}'.format(m),\n",
    "        ]\n",
    "        setup_code = ';'.join(setup)\n",
    "        \n",
    "        runtime_code = 'matrixProfile.{}(ts, m)'.format(algorithm)\n",
    "        \n",
    "        # stamp's default does not compute the entire matrix profile so we make it happen\n",
    "        if 'stamp' in algorithm:\n",
    "            runtime_code = 'matrixProfile.{}(ts, m, sampling=1.0, n_threads=None)'.format(algorithm)\n",
    "\n",
    "        # shortcut to reduce long running naiveMP algorithm\n",
    "        if 'naiveMP' == algorithm and i > 10:\n",
    "            result = np.nan\n",
    "        else:\n",
    "            try:\n",
    "                result = timeit.timeit(stmt=runtime_code, setup=setup_code, number=1)\n",
    "            except ValueError:\n",
    "                result = np.nan\n",
    "        \n",
    "        results['Algorithm'].append(algorithm)\n",
    "        results['N'].append(n)\n",
    "        results['Time (seconds)'].append(result)"
   ]
  },
  {
   "cell_type": "code",
   "execution_count": 4,
   "metadata": {},
   "outputs": [],
   "source": [
    "df = pd.DataFrame(results)"
   ]
  },
  {
   "cell_type": "code",
   "execution_count": 5,
   "metadata": {},
   "outputs": [
    {
     "data": {
      "text/html": [
       "<div>\n",
       "<style scoped>\n",
       "    .dataframe tbody tr th:only-of-type {\n",
       "        vertical-align: middle;\n",
       "    }\n",
       "\n",
       "    .dataframe tbody tr th {\n",
       "        vertical-align: top;\n",
       "    }\n",
       "\n",
       "    .dataframe thead th {\n",
       "        text-align: right;\n",
       "    }\n",
       "</style>\n",
       "<table border=\"1\" class=\"dataframe\">\n",
       "  <thead>\n",
       "    <tr style=\"text-align: right;\">\n",
       "      <th>Algorithm</th>\n",
       "      <th>naiveMP</th>\n",
       "      <th>scrimp_plus_plus</th>\n",
       "      <th>stamp</th>\n",
       "      <th>stomp</th>\n",
       "    </tr>\n",
       "    <tr>\n",
       "      <th>N</th>\n",
       "      <th></th>\n",
       "      <th></th>\n",
       "      <th></th>\n",
       "      <th></th>\n",
       "    </tr>\n",
       "  </thead>\n",
       "  <tbody>\n",
       "    <tr>\n",
       "      <td>4</td>\n",
       "      <td>NaN</td>\n",
       "      <td>NaN</td>\n",
       "      <td>NaN</td>\n",
       "      <td>NaN</td>\n",
       "    </tr>\n",
       "    <tr>\n",
       "      <td>8</td>\n",
       "      <td>NaN</td>\n",
       "      <td>NaN</td>\n",
       "      <td>NaN</td>\n",
       "      <td>NaN</td>\n",
       "    </tr>\n",
       "    <tr>\n",
       "      <td>16</td>\n",
       "      <td>NaN</td>\n",
       "      <td>NaN</td>\n",
       "      <td>NaN</td>\n",
       "      <td>NaN</td>\n",
       "    </tr>\n",
       "    <tr>\n",
       "      <td>32</td>\n",
       "      <td>0.000215</td>\n",
       "      <td>NaN</td>\n",
       "      <td>0.000387</td>\n",
       "      <td>0.000363</td>\n",
       "    </tr>\n",
       "    <tr>\n",
       "      <td>64</td>\n",
       "      <td>0.069694</td>\n",
       "      <td>0.002000</td>\n",
       "      <td>0.006151</td>\n",
       "      <td>0.002657</td>\n",
       "    </tr>\n",
       "    <tr>\n",
       "      <td>128</td>\n",
       "      <td>0.578268</td>\n",
       "      <td>0.005511</td>\n",
       "      <td>0.018356</td>\n",
       "      <td>0.007380</td>\n",
       "    </tr>\n",
       "    <tr>\n",
       "      <td>256</td>\n",
       "      <td>3.077092</td>\n",
       "      <td>0.013407</td>\n",
       "      <td>0.045299</td>\n",
       "      <td>0.017427</td>\n",
       "    </tr>\n",
       "    <tr>\n",
       "      <td>512</td>\n",
       "      <td>13.660800</td>\n",
       "      <td>0.034628</td>\n",
       "      <td>0.105227</td>\n",
       "      <td>0.039074</td>\n",
       "    </tr>\n",
       "    <tr>\n",
       "      <td>1024</td>\n",
       "      <td>56.763116</td>\n",
       "      <td>0.069510</td>\n",
       "      <td>0.238100</td>\n",
       "      <td>0.089784</td>\n",
       "    </tr>\n",
       "    <tr>\n",
       "      <td>2048</td>\n",
       "      <td>NaN</td>\n",
       "      <td>0.175457</td>\n",
       "      <td>0.570555</td>\n",
       "      <td>0.213527</td>\n",
       "    </tr>\n",
       "    <tr>\n",
       "      <td>4096</td>\n",
       "      <td>NaN</td>\n",
       "      <td>0.429905</td>\n",
       "      <td>1.530745</td>\n",
       "      <td>0.563220</td>\n",
       "    </tr>\n",
       "    <tr>\n",
       "      <td>8192</td>\n",
       "      <td>NaN</td>\n",
       "      <td>1.371623</td>\n",
       "      <td>4.946678</td>\n",
       "      <td>1.645231</td>\n",
       "    </tr>\n",
       "    <tr>\n",
       "      <td>16384</td>\n",
       "      <td>NaN</td>\n",
       "      <td>4.380456</td>\n",
       "      <td>16.881261</td>\n",
       "      <td>5.237762</td>\n",
       "    </tr>\n",
       "  </tbody>\n",
       "</table>\n",
       "</div>"
      ],
      "text/plain": [
       "Algorithm    naiveMP  scrimp_plus_plus      stamp     stomp\n",
       "N                                                          \n",
       "4                NaN               NaN        NaN       NaN\n",
       "8                NaN               NaN        NaN       NaN\n",
       "16               NaN               NaN        NaN       NaN\n",
       "32          0.000215               NaN   0.000387  0.000363\n",
       "64          0.069694          0.002000   0.006151  0.002657\n",
       "128         0.578268          0.005511   0.018356  0.007380\n",
       "256         3.077092          0.013407   0.045299  0.017427\n",
       "512        13.660800          0.034628   0.105227  0.039074\n",
       "1024       56.763116          0.069510   0.238100  0.089784\n",
       "2048             NaN          0.175457   0.570555  0.213527\n",
       "4096             NaN          0.429905   1.530745  0.563220\n",
       "8192             NaN          1.371623   4.946678  1.645231\n",
       "16384            NaN          4.380456  16.881261  5.237762"
      ]
     },
     "execution_count": 5,
     "metadata": {},
     "output_type": "execute_result"
    }
   ],
   "source": [
    "df.pivot(index='N', columns='Algorithm', values='Time (seconds)')"
   ]
  },
  {
   "cell_type": "code",
   "execution_count": 6,
   "metadata": {},
   "outputs": [
    {
     "data": {
      "image/png": "[encoded data removed]",
      "text/plain": [
       "<Figure size 720x504 with 1 Axes>"
      ]
     },
     "metadata": {
      "needs_background": "light"
     },
     "output_type": "display_data"
    }
   ],
   "source": [
    "df.pivot(index='N', columns='Algorithm', values='Time (seconds)').plot(title='Runtime Varying N\\n M = 2^5', figsize=(10,7))\n",
    "plt.ylabel('Seconds')\n",
    "plt.show()"
   ]
  }
 ],
 "metadata": {
  "kernelspec": {
   "display_name": "Python 3",
   "language": "python",
   "name": "python3"
  },
  "language_info": {
   "codemirror_mode": {
    "name": "ipython",
    "version": 3
   },
   "file_extension": ".py",
   "mimetype": "text/x-python",
   "name": "python",
   "nbconvert_exporter": "python",
   "pygments_lexer": "ipython3",
   "version": "3.7.4"
  }
 },
 "nbformat": 4,
 "nbformat_minor": 4
}
